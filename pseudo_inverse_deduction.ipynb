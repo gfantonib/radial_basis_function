{
 "cells": [
  {
   "cell_type": "code",
   "execution_count": 1,
   "metadata": {},
   "outputs": [],
   "source": [
    "import numpy as np"
   ]
  },
  {
   "cell_type": "markdown",
   "metadata": {},
   "source": [
    "$$R^{-1} \\times R = I$$"
   ]
  },
  {
   "cell_type": "code",
   "execution_count": 2,
   "metadata": {},
   "outputs": [
    {
     "name": "stdout",
     "output_type": "stream",
     "text": [
      "Matrix:\n",
      "[[2 1]\n",
      " [1 1]]\n",
      "\n",
      "Inverse Matrix:\n",
      "[[ 1. -1.]\n",
      " [-1.  2.]]\n",
      "\n",
      "Identity Matrix:\n",
      "[[1. 0.]\n",
      " [0. 1.]]\n"
     ]
    }
   ],
   "source": [
    "R = np.array([[2, 1],\n",
    "\t\t\t  [1, 1]])\n",
    "\n",
    "R_inv = np.linalg.inv(R)\n",
    "\n",
    "I = np.dot(R_inv, R)\n",
    "\n",
    "print(f\"Matrix:\\n{R}\\n\\nInverse Matrix:\\n{R_inv}\\n\\nIdentity Matrix:\\n{I}\")"
   ]
  },
  {
   "cell_type": "markdown",
   "metadata": {},
   "source": [
    "$$([A] \\cdot [B])^{-1} = [B]^{-1} \\cdot [A]^{-1}$$\n"
   ]
  },
  {
   "cell_type": "code",
   "execution_count": 3,
   "metadata": {},
   "outputs": [
    {
     "name": "stdout",
     "output_type": "stream",
     "text": [
      "[[ 1. -1.]\n",
      " [-1.  2.]]\n",
      "\n",
      "\n",
      "[[ 1. -1.]\n",
      " [-1.  2.]]\n",
      "\n",
      "\n"
     ]
    }
   ],
   "source": [
    "A = np.array([[1, 1],\n",
    "\t\t\t  [0, 1]])\n",
    "\n",
    "B = np.array([[1, 0],\n",
    "\t\t\t  [1, 1]])\n",
    "\n",
    "A_inv = np.linalg.inv(A)\n",
    "B_inv = np.linalg.inv(B)\n",
    "\n",
    "AB = np.dot(A, B)\n",
    "\n",
    "print(f\"{np.linalg.inv(AB)}\\n\\n\")\n",
    "print(f\"{np.dot(B_inv, A_inv)}\\n\\n\")"
   ]
  },
  {
   "cell_type": "markdown",
   "metadata": {},
   "source": [
    "### System of equations (2x2) - Normal "
   ]
  },
  {
   "cell_type": "markdown",
   "metadata": {},
   "source": [
    "$$[R] \\cdot [a] = [A]$$\n",
    "\n",
    "$$[R]^{-1} \\cdot [R] \\cdot [a] = [R]^{-1} \\cdot [A]$$\n",
    "\n",
    "$$I \\cdot [a] = [R]^{-1} \\cdot [A]$$\n",
    "\n",
    "$$[a] = [R]^{-1} \\cdot [A]$$\n"
   ]
  },
  {
   "cell_type": "code",
   "execution_count": 4,
   "metadata": {},
   "outputs": [
    {
     "name": "stdout",
     "output_type": "stream",
     "text": [
      "[[1.]\n",
      " [2.]]\n"
     ]
    }
   ],
   "source": [
    "R = np.array([[2, 1],\n",
    "\t\t\t  [1, 1]])\n",
    "\n",
    "A = np.array([[4],\n",
    "\t\t\t  [3]])\n",
    "\n",
    "R_inv = np.linalg.inv(R)\n",
    "\n",
    "a = np.dot(R_inv, A)\n",
    "\n",
    "print(a)\n",
    "\n"
   ]
  },
  {
   "cell_type": "markdown",
   "metadata": {},
   "source": [
    "### System of equations (4x3) - Abnormal \n"
   ]
  },
  {
   "cell_type": "markdown",
   "metadata": {},
   "source": [
    "$$[R] \\cdot [a] = [A]$$\n",
    "\n",
    "$$[R]^{-1} = Impossible$$"
   ]
  },
  {
   "cell_type": "code",
   "execution_count": null,
   "metadata": {},
   "outputs": [],
   "source": [
    "R = np.array([[1, 2, 1],\n",
    "\t\t\t  [2, 3, 1],\n",
    "\t\t\t  [4, 1, 2],\n",
    "\t\t\t  [1, 5, 2]]) # Not squared\n",
    "\n",
    "A = np.array([[4],\n",
    "\t\t\t  [6],\n",
    "\t\t\t  [7],\n",
    "\t\t\t  [8]])\n",
    "\n",
    "R_inv = np.linalg.inv(R) # LinAlgError: Last 2 dimensions of the array must be square"
   ]
  },
  {
   "cell_type": "markdown",
   "metadata": {},
   "source": [
    "$$maybe...$$\n",
    "$$[a] = \\frac{1}{[R]} \\cdot [A] ??$$"
   ]
  },
  {
   "cell_type": "markdown",
   "metadata": {},
   "source": [
    "$$Pseudo-inverse$$\n",
    "$$-----------------$$\n",
    "$$[R] \\cdot [a] = [A]$$\n",
    "$$-----------------$$\n",
    "$$[I] \\cdot [R] \\cdot [a] = [I] \\cdot [A]$$\n",
    "$$[R] \\cdot [a] = [I] \\cdot [A]$$\n",
    "$$[R] \\cdot [a] = [R^{t}]^{-1} \\cdot [R^{t}] \\cdot [A]$$\n",
    "$$[R]^{-1} \\cdot [R] \\cdot [a] = [R]^{-1} \\cdot [R^{t}]^{-1} \\cdot [R^{t}] \\cdot [A]$$\n",
    "$$[a] = [R]^{-1} \\cdot [R^{t}]^{-1} \\cdot [R^{t}] \\cdot [A]$$\n",
    "$$-----------------$$\n",
    "$$([A] \\cdot [B])^{-1} = [B]^{-1} \\cdot [A]^{-1}$$\n",
    "$$([R^{t}] \\cdot [R])^{-1} = [R]^{-1} \\cdot [R^{t}]^{-1}$$\n",
    "$$-----------------$$\n",
    "$$[a] = ([R^{t}] \\cdot [R])^{-1} \\cdot [R^{t}] \\cdot [A]$$\n",
    "$$[a] = ([R^{t}] \\cdot [R])^{-1} \\cdot [R^{t}] \\cdot [A]$$\n",
    "$$[a] = \\frac{1}{[R]} \\cdot [A]$$\n",
    "$$-----------------$$\n",
    "$$\\frac{1}{[R]} = ([R^{t}] \\cdot [R])^{-1} \\cdot [R^{t}]$$\n",
    "$$-----------------$$\n",
    "\n"
   ]
  },
  {
   "cell_type": "code",
   "execution_count": 9,
   "metadata": {},
   "outputs": [
    {
     "name": "stdout",
     "output_type": "stream",
     "text": [
      "[[1.]\n",
      " [1.]\n",
      " [1.]]\n"
     ]
    }
   ],
   "source": [
    "R = np.array([[1, 2, 1],\n",
    "\t\t\t  [2, 3, 1],\n",
    "\t\t\t  [4, 1, 2],\n",
    "\t\t\t  [1, 5, 2]])\n",
    "\n",
    "A = np.array([[4],\n",
    "\t\t\t  [6],\n",
    "\t\t\t  [7],\n",
    "\t\t\t  [8]])\n",
    "\n",
    "R_pseudo_inv = np.dot(np.linalg.inv(np.dot(R.T, R)), R.T)\n",
    "\n",
    "a = np.dot(R_pseudo_inv, A)\n",
    "\n",
    "print(a)"
   ]
  }
 ],
 "metadata": {
  "kernelspec": {
   "display_name": "Python 3",
   "language": "python",
   "name": "python3"
  },
  "language_info": {
   "codemirror_mode": {
    "name": "ipython",
    "version": 3
   },
   "file_extension": ".py",
   "mimetype": "text/x-python",
   "name": "python",
   "nbconvert_exporter": "python",
   "pygments_lexer": "ipython3",
   "version": "3.8.10"
  }
 },
 "nbformat": 4,
 "nbformat_minor": 2
}
