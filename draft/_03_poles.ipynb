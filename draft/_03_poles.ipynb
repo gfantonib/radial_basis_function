{
 "cells": [
  {
   "cell_type": "code",
   "execution_count": 2,
   "metadata": {},
   "outputs": [],
   "source": [
    "import pandas as pd\n",
    "import numpy as np"
   ]
  },
  {
   "cell_type": "code",
   "execution_count": 3,
   "metadata": {},
   "outputs": [
    {
     "name": "stdout",
     "output_type": "stream",
     "text": [
      "   A   B   C\n",
      "0  1   6  11\n",
      "1  2   7  12\n",
      "2  3   8  13\n",
      "3  4   9  14\n",
      "4  5  10  15\n",
      "   A   B   C\n",
      "4  5  10  15\n",
      "1  2   7  12\n",
      "2  3   8  13\n",
      "3  4   9  14\n",
      "0  1   6  11\n"
     ]
    }
   ],
   "source": [
    "# Assuming df is your DataFrame\n",
    "# Sample DataFrame\n",
    "df = pd.DataFrame({'A': [1, 2, 3, 4, 5],\n",
    "                   'B': [6, 7, 8, 9, 10],\n",
    "                   'C': [11, 12, 13, 14, 15]})\n",
    "\n",
    "print(df)\n",
    "# Randomly select 5 rows from the DataFrame\n",
    "random_rows = df.sample(n=5)\n",
    "\n",
    "# Print the randomly selected rows\n",
    "print(random_rows)"
   ]
  },
  {
   "cell_type": "code",
   "execution_count": 4,
   "metadata": {},
   "outputs": [
    {
     "name": "stdout",
     "output_type": "stream",
     "text": [
      "Generated random arrays:\n",
      "Array 1: [ 6.63662578 52.61340339 87.42380044 42.51405668  4.50457998 71.9439578\n",
      " 78.76423985 67.18745802 57.20843254 42.82321944]\n",
      "Array 2: [10.11009886 88.26671155 28.93092327 66.81843467  3.20821439 16.22772387\n",
      " 38.95456619 16.2561015  21.3871737  48.0033898 ]\n",
      "Array 3: [62.3451416  89.88906983 97.37052424 41.12076588 61.29313459 60.45695701\n",
      " 81.72752091 56.51710339 24.47454346 71.55549388]\n",
      "Array 4: [66.69806047 93.29930134 14.49140982 26.81227396 34.42917414 48.80468771\n",
      " 59.55034155 44.85250357 38.26523502 81.64774169]\n",
      "Array 5: [81.11584295 55.89515084 66.20718911 53.39565703 45.31550032 18.31484187\n",
      " 56.65519675 34.75480247 60.58729683 83.46156866]\n"
     ]
    }
   ],
   "source": [
    "\n",
    "\n",
    "def generate_random_arrays(n, m, a, b):\n",
    "    return [np.random.uniform(a, b, size=m) for _ in range(n)]\n",
    "\n",
    "# Example usage:\n",
    "n = 5  # Number of arrays\n",
    "m = 10  # Size of each array\n",
    "a = 0  # Minimum value\n",
    "b = 100  # Maximum value\n",
    "\n",
    "random_arrays = generate_random_arrays(n, m, a, b)\n",
    "print(\"Generated random arrays:\")\n",
    "for i, arr in enumerate(random_arrays, start=1):\n",
    "    print(f\"Array {i}:\", arr)"
   ]
  },
  {
   "cell_type": "code",
   "execution_count": 9,
   "metadata": {},
   "outputs": [
    {
     "name": "stdout",
     "output_type": "stream",
     "text": [
      "Generated DataFrame:\n",
      "          0        1         2         3         4\n",
      "0  0.853952  0.46771  0.202871  0.001836  0.955228\n",
      "1  0.171637  0.21954  0.381287  0.214594  0.504120\n"
     ]
    }
   ],
   "source": [
    "def generate_random_arrays_df(n, m, a, b):\n",
    "    arrays = [np.random.uniform(a, b, size=m) for _ in range(n)]\n",
    "    df = pd.DataFrame(arrays)  # Transpose to have each array as a column\n",
    "    return df\n",
    "\n",
    "# Example usage:\n",
    "n = 2  # Number of arrays\n",
    "m = 5  # Size of each array\n",
    "a = 0  # Minimum value\n",
    "b = 1  # Maximum value\n",
    "\n",
    "random_df = generate_random_arrays_df(n, m, a, b)\n",
    "print(\"Generated DataFrame:\")\n",
    "print(random_df)"
   ]
  }
 ],
 "metadata": {
  "kernelspec": {
   "display_name": "Python 3",
   "language": "python",
   "name": "python3"
  },
  "language_info": {
   "codemirror_mode": {
    "name": "ipython",
    "version": 3
   },
   "file_extension": ".py",
   "mimetype": "text/x-python",
   "name": "python",
   "nbconvert_exporter": "python",
   "pygments_lexer": "ipython3",
   "version": "3.8.10"
  }
 },
 "nbformat": 4,
 "nbformat_minor": 2
}
