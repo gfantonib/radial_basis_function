{
 "cells": [
  {
   "cell_type": "code",
   "execution_count": 2,
   "metadata": {},
   "outputs": [],
   "source": [
    "import pandas as pd\n",
    "import numpy as np"
   ]
  },
  {
   "cell_type": "code",
   "execution_count": 13,
   "metadata": {},
   "outputs": [
    {
     "name": "stdout",
     "output_type": "stream",
     "text": [
      "   A   B   C\n",
      "0  1   6  11\n",
      "1  2   7  12\n",
      "2  3   8  13\n",
      "3  4   9  14\n",
      "4  5  10  15\n",
      "   A   B   C\n",
      "4  5  10  15\n",
      "1  2   7  12\n",
      "3  4   9  14\n",
      "0  1   6  11\n",
      "2  3   8  13\n"
     ]
    }
   ],
   "source": [
    "# Assuming df is your DataFrame\n",
    "# Sample DataFrame\n",
    "df = pd.DataFrame({'A': [1, 2, 3, 4, 5],\n",
    "                   'B': [6, 7, 8, 9, 10],\n",
    "                   'C': [11, 12, 13, 14, 15]})\n",
    "\n",
    "print(df)\n",
    "# Randomly select 5 rows from the DataFrame\n",
    "random_rows = df.sample(n=5)\n",
    "\n",
    "# Print the randomly selected rows\n",
    "print(random_rows)"
   ]
  },
  {
   "cell_type": "code",
   "execution_count": null,
   "metadata": {},
   "outputs": [],
   "source": []
  }
 ],
 "metadata": {
  "kernelspec": {
   "display_name": "Python 3",
   "language": "python",
   "name": "python3"
  },
  "language_info": {
   "codemirror_mode": {
    "name": "ipython",
    "version": 3
   },
   "file_extension": ".py",
   "mimetype": "text/x-python",
   "name": "python",
   "nbconvert_exporter": "python",
   "pygments_lexer": "ipython3",
   "version": "3.8.10"
  }
 },
 "nbformat": 4,
 "nbformat_minor": 2
}
