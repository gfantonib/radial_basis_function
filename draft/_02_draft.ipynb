{
 "cells": [
  {
   "cell_type": "code",
   "execution_count": 149,
   "metadata": {},
   "outputs": [],
   "source": [
    "import pandas as pd\n",
    "import numpy as np"
   ]
  },
  {
   "cell_type": "code",
   "execution_count": 150,
   "metadata": {},
   "outputs": [
    {
     "name": "stdout",
     "output_type": "stream",
     "text": [
      "   X1  X2  X3  X4  X5  X6  X7  X8  X9  X10\n",
      "0   1   0   1   0   1   1   0   1   0    1\n",
      "1   1   0   1   0   0   1   1   1   0    1\n",
      "2   0   1   1   1   0   1   0   1   1    0\n",
      "3   0   1   1   0   1   1   0   0   1    1\n",
      "4   1   0   0   0   1   1   1   1   1    1\n",
      "5   1   1   1   1   0   0   0   0   0    1\n",
      "6   1   1   0   1   0   1   1   0   1    0\n",
      "7   0   1   0   1   0   1   0   1   0    1\n",
      "8   1   1   1   0   0   1   1   0   0    1\n",
      "0    10.0\n",
      "1   -10.0\n",
      "2   -10.0\n",
      "3    10.0\n",
      "4   -10.0\n",
      "5   -10.0\n",
      "6    10.0\n",
      "7    10.0\n",
      "8   -10.0\n",
      "Name: REFERENCE, dtype: float64\n",
      "   X1\n",
      "0   2\n",
      "1   3\n",
      "2   4\n",
      "0    3.0\n",
      "1    6.0\n",
      "2    5.0\n",
      "Name: REFERENCE, dtype: float64\n",
      "   X1  X2\n",
      "0   1   1\n",
      "1   0   1\n",
      "2   0   0\n",
      "3   1   0\n",
      "0    0.0\n",
      "1    1.0\n",
      "2    0.0\n",
      "3    1.0\n",
      "Name: REFERENCE, dtype: float64\n",
      "   X1  X2  X3\n",
      "0   1   1   1\n",
      "1   1   1   0\n",
      "2   0   3   1\n",
      "3   1   1   2\n",
      "4   2   1   1\n",
      "5   2   0   4\n",
      "6   1   2   0\n",
      "0    2.18\n",
      "1    1.83\n",
      "2    1.31\n",
      "3    2.79\n",
      "4    2.49\n",
      "5    3.95\n",
      "6    2.11\n",
      "Name: REFERENCE, dtype: float64\n"
     ]
    }
   ],
   "source": [
    "# Open database\n",
    "df_1 = pd.read_excel(\"rbf_data_1.xlsx\")\n",
    "df_2 = pd.read_excel(\"rbf_data_2.xlsx\")\n",
    "df_3 = pd.read_excel(\"rbf_data_3.xlsx\")\n",
    "df_4 = pd.read_excel(\"rbf_data_4.xlsx\")\n",
    "\n",
    "# 1\n",
    "df_op_1 = df_1.drop(columns=[\"REFERENCE\"])\n",
    "column_ref_1 = df_1[\"REFERENCE\"].astype(float)\n",
    "print(df_op_1)\n",
    "print(column_ref_1)\n",
    "\n",
    "# 2\n",
    "df_op_2 = df_2.drop(columns=[\"REFERENCE\"])\n",
    "column_ref_2 = df_2[\"REFERENCE\"].astype(float)\n",
    "print(df_op_2)\n",
    "print(column_ref_2)\n",
    "\n",
    "# 3\n",
    "df_op_3 = df_3.drop(columns=[\"REFERENCE\"])\n",
    "column_ref_3 = df_3[\"REFERENCE\"].astype(float)\n",
    "print(df_op_3)\n",
    "print(column_ref_3)\n",
    "\n",
    "# 4\n",
    "df_4.iloc[6, 3] = 2.11\n",
    "df_op_4 = df_4.drop(columns=[\"REFERENCE\"])\n",
    "column_ref_4 = df_4[\"REFERENCE\"].astype(float)\n",
    "print(df_op_4)\n",
    "print(column_ref_4)"
   ]
  },
  {
   "cell_type": "code",
   "execution_count": 151,
   "metadata": {},
   "outputs": [],
   "source": [
    "def oil_database(df_1, df_2, df_3, df_4):\n",
    "\n",
    "\t# 1\n",
    "\tdf_op_1 = df_1.drop(columns=[\"REFERENCE\"])\n",
    "\tcolumn_ref_1 = df_1[\"REFERENCE\"].astype(float)\n",
    "\t\n",
    "\t# 2\n",
    "\tdf_op_2 = df_2.drop(columns=[\"REFERENCE\"])\n",
    "\tcolumn_ref_2 = df_2[\"REFERENCE\"].astype(float)\n",
    "\t\n",
    "\t# 3\n",
    "\tdf_op_3 = df_3.drop(columns=[\"REFERENCE\"])\n",
    "\tcolumn_ref_3 = df_3[\"REFERENCE\"].astype(float)\n",
    "\t\n",
    "\t# 4\n",
    "\tdf_4.iloc[6, 3] = 2.11\n",
    "\tdf_op_4 = df_4.drop(columns=[\"REFERENCE\"])\n",
    "\tcolumn_ref_4 = df_4[\"REFERENCE\"].astype(float)\n",
    "\t\n",
    "\treturn df_op_1, df_op_2, df_op_3, df_op_4, \\\n",
    "\t\t   column_ref_1, column_ref_2, column_ref_3, column_ref_4"
   ]
  },
  {
   "cell_type": "code",
   "execution_count": 152,
   "metadata": {},
   "outputs": [],
   "source": [
    "def select_two_poles(df_op):\n",
    "\tpole_size = len(df_op.columns)\n",
    "\tpole_zero = np.zeros(pole_size)\n",
    "\tpole_one = df_op.max().values\n",
    "\tnbr_of_poles = 2\n",
    "\treturn nbr_of_poles, pole_zero, pole_one"
   ]
  },
  {
   "cell_type": "code",
   "execution_count": 153,
   "metadata": {},
   "outputs": [],
   "source": [
    "def calculate_euclidian_distance(pole_zero, pole_one):\n",
    "\tpole_distance = np.linalg.norm(pole_one - pole_zero)**2\n",
    "\treturn pole_distance"
   ]
  },
  {
   "cell_type": "code",
   "execution_count": 154,
   "metadata": {},
   "outputs": [],
   "source": [
    "def calculate_sigma(nbr_of_poles, pole_distance):\n",
    "\tsigma = np.sqrt(pole_distance) / np.sqrt(2 * nbr_of_poles)\n",
    "\treturn sigma"
   ]
  },
  {
   "cell_type": "code",
   "execution_count": 155,
   "metadata": {},
   "outputs": [],
   "source": [
    "def gaussian_function(row, pole_zero, pole_one, sigma):\n",
    "\tresult1 = np.e**(-1/(2*(sigma**2)) * np.linalg.norm(row - pole_zero)**2)\n",
    "\tresult2 = np.e**(-1/(2*(sigma**2)) * np.linalg.norm(row - pole_one)**2)\n",
    "\treturn result1, result2\n",
    "\n",
    "def apply_radial_basis_function_in_database(df_op, pole_zero, pole_one, sigma):\n",
    "\ttuple_series = df_op.apply(gaussian_function, axis=1, args=(pole_zero, pole_one, sigma))\n",
    "\tdf_main_matrix = pd.DataFrame(tuple_series.tolist(), columns=['Column 1', 'Column 2'])\n",
    "\tdf_main_matrix[\"Column 3\"] = 1\n",
    "\tR = df_main_matrix.values\n",
    "\treturn R"
   ]
  },
  {
   "cell_type": "code",
   "execution_count": 156,
   "metadata": {},
   "outputs": [],
   "source": [
    "def calculate_pseudo_inverse(R):\n",
    "\tR_pseudo_inv = np.dot(np.linalg.inv(np.dot(R.T, R)), R.T)\n",
    "\treturn R_pseudo_inv"
   ]
  },
  {
   "cell_type": "code",
   "execution_count": 157,
   "metadata": {},
   "outputs": [],
   "source": [
    "def transform_column_ref_in_matrix(column_ref):\n",
    "\tA = column_ref.to_numpy().reshape(-1, 1)\n",
    "\treturn A"
   ]
  },
  {
   "cell_type": "code",
   "execution_count": 158,
   "metadata": {},
   "outputs": [],
   "source": [
    "def calculate_radial_basis_function_constants(R_pseudo_inv, A):\n",
    "\ta = np.dot(R_pseudo_inv, A)\n",
    "\treturn a"
   ]
  },
  {
   "cell_type": "code",
   "execution_count": 159,
   "metadata": {},
   "outputs": [],
   "source": [
    "def truth_gaussian_function(row, pole_zero, pole_one, sigma, a):\n",
    "\tfirst_term = a[0] * np.e**(-1/(2*(sigma**2)) * np.linalg.norm(row - pole_zero)**2)\n",
    "\tsecond_term = a[1] * np.e**(-1/(2*(sigma**2)) * np.linalg.norm(row - pole_one)**2)\n",
    "\tthird_term = a[2]\n",
    "\tresult = first_term + second_term + third_term\n",
    "\treturn result\n",
    "\n",
    "def predict_new_values(new_df_op, pole_zero, pole_one, sigma, a):\n",
    "\tresult = new_df_op.apply(truth_gaussian_function, axis=1, args=(pole_zero, pole_one, sigma, a))\n",
    "\treturn result"
   ]
  },
  {
   "cell_type": "code",
   "execution_count": 164,
   "metadata": {},
   "outputs": [
    {
     "name": "stdout",
     "output_type": "stream",
     "text": [
      "0    [2.9999999999999076]\n",
      "1     [6.000000000000526]\n",
      "2     [5.000000000000689]\n",
      "dtype: object\n"
     ]
    }
   ],
   "source": [
    "# main function\n",
    "# Open database\n",
    "df_1 = pd.read_excel(\"rbf_data_1.xlsx\")\n",
    "df_2 = pd.read_excel(\"rbf_data_2.xlsx\")\n",
    "df_3 = pd.read_excel(\"rbf_data_3.xlsx\")\n",
    "df_4 = pd.read_excel(\"rbf_data_4.xlsx\")\n",
    "\n",
    "# Treat database\n",
    "df_op_1, df_op_2, df_op_3, df_op_4, \\\n",
    "column_ref_1, column_ref_2, column_ref_3, column_ref_4 = \\\n",
    "oil_database(df_1, df_2, df_3, df_4)\n",
    "\n",
    "# Chose datas to be processed\n",
    "df_op = df_op_2\n",
    "column_ref = column_ref_2\n",
    "\n",
    "# Algorithm core\n",
    "nbr_of_poles, pole_zero, pole_one = select_two_poles(df_op)\n",
    "pole_distance = calculate_euclidian_distance(pole_zero, pole_one)\n",
    "sigma = calculate_sigma(nbr_of_poles, pole_distance)\n",
    "R = apply_radial_basis_function_in_database(df_op, pole_zero, pole_one, sigma)\n",
    "R_pseudo_inv = calculate_pseudo_inverse(R)\n",
    "A = transform_column_ref_in_matrix(column_ref)\n",
    "a = calculate_radial_basis_function_constants(R_pseudo_inv, A)\n",
    "\n",
    "# Define datas to be predicted\n",
    "df_op_to_predic = df_op\n",
    "\n",
    "# Predict data reference\n",
    "prediction = predict_new_values(df_op_to_predic, pole_zero, pole_one, sigma, a)\n",
    "print(prediction)"
   ]
  }
 ],
 "metadata": {
  "kernelspec": {
   "display_name": "Python 3",
   "language": "python",
   "name": "python3"
  },
  "language_info": {
   "codemirror_mode": {
    "name": "ipython",
    "version": 3
   },
   "file_extension": ".py",
   "mimetype": "text/x-python",
   "name": "python",
   "nbconvert_exporter": "python",
   "pygments_lexer": "ipython3",
   "version": "3.8.10"
  }
 },
 "nbformat": 4,
 "nbformat_minor": 2
}
