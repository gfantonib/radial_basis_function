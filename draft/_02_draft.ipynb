{
 "cells": [
  {
   "cell_type": "code",
   "execution_count": 53,
   "metadata": {},
   "outputs": [],
   "source": [
    "import pandas as pd\n",
    "import numpy as np"
   ]
  },
  {
   "cell_type": "code",
   "execution_count": 54,
   "metadata": {},
   "outputs": [
    {
     "name": "stdout",
     "output_type": "stream",
     "text": [
      "   X1  X2  X3 REFERENCE\n",
      "0   1   1   1      2.18\n",
      "1   1   1   0      1.83\n",
      "2   0   3   1      1.31\n",
      "3   1   1   2      2.79\n",
      "4   2   1   1      2.49\n",
      "5   2   0   4      3.95\n",
      "6   1   2   0      2.11\n",
      "   X1  X2  X3\n",
      "0   1   1   1\n",
      "1   1   1   0\n",
      "2   0   3   1\n",
      "3   1   1   2\n",
      "4   2   1   1\n",
      "5   2   0   4\n",
      "6   1   2   0\n",
      "0    2.18\n",
      "1    1.83\n",
      "2    1.31\n",
      "3    2.79\n",
      "4    2.49\n",
      "5    3.95\n",
      "6    2.11\n",
      "Name: REFERENCE, dtype: float64\n"
     ]
    }
   ],
   "source": [
    "def oil_database(df):\n",
    "\tdf = pd.read_excel(\"rbf_data_4.xlsx\")\n",
    "\tdf.iloc[6, 3] = 2.11\n",
    "\tdf_op = df.drop(columns=[\"REFERENCE\"])\n",
    "\tcolumn_ref = df[\"REFERENCE\"].astype(float)\n",
    "\treturn df_op, column_ref"
   ]
  },
  {
   "cell_type": "code",
   "execution_count": 55,
   "metadata": {},
   "outputs": [
    {
     "name": "stdout",
     "output_type": "stream",
     "text": [
      "3\n",
      "[0. 0. 0.]\n",
      "[2 3 4]\n"
     ]
    }
   ],
   "source": [
    "def select_two_poles(df_op):\n",
    "\tpole_size = len(df_op.columns)\n",
    "\tpole_zero = np.zeros(pole_size)\n",
    "\tpole_one = df_op.max().values\n",
    "\tnbr_of_poles = 2\n",
    "\treturn nbr_of_poles, pole_zero, pole_one"
   ]
  },
  {
   "cell_type": "code",
   "execution_count": 56,
   "metadata": {},
   "outputs": [
    {
     "name": "stdout",
     "output_type": "stream",
     "text": [
      "28.999999999999996\n"
     ]
    }
   ],
   "source": [
    "def calculate_euclidian_distance(pole_zero, pole_one):\n",
    "\tpole_distance = np.linalg.norm(pole_one - pole_zero)**2\n",
    "\treturn pole_distance"
   ]
  },
  {
   "cell_type": "code",
   "execution_count": 57,
   "metadata": {},
   "outputs": [
    {
     "name": "stdout",
     "output_type": "stream",
     "text": [
      "2.692582403567252\n"
     ]
    }
   ],
   "source": [
    "def calculate_sigma(nbr_of_poles, pole_distance):\n",
    "\tsigma = np.sqrt(pole_distance) / np.sqrt(2 * nbr_of_poles)\n",
    "\treturn sigma\n"
   ]
  },
  {
   "cell_type": "code",
   "execution_count": 59,
   "metadata": {},
   "outputs": [
    {
     "name": "stdout",
     "output_type": "stream",
     "text": [
      "0     (0.8131037598190377, 0.3807861904186886)\n",
      "1    (0.8711587695892689, 0.23497506847332428)\n",
      "2    (0.5017490561548966, 0.40797404404520005)\n",
      "3     (0.6611377242318554, 0.5375735693311237)\n",
      "4    (0.6611377242318554, 0.40797404404520005)\n",
      "5     (0.2517521153523296, 0.5375735693311237)\n",
      "6    (0.7083424709523611, 0.28898534244340446)\n",
      "dtype: object\n",
      "   Column 1  Column 2  Column 3\n",
      "0  0.813104  0.380786         1\n",
      "1  0.871159  0.234975         1\n",
      "2  0.501749  0.407974         1\n",
      "3  0.661138  0.537574         1\n",
      "4  0.661138  0.407974         1\n",
      "5  0.251752  0.537574         1\n",
      "6  0.708342  0.288985         1\n",
      "[[0.81310376 0.38078619 1.        ]\n",
      " [0.87115877 0.23497507 1.        ]\n",
      " [0.50174906 0.40797404 1.        ]\n",
      " [0.66113772 0.53757357 1.        ]\n",
      " [0.66113772 0.40797404 1.        ]\n",
      " [0.25175212 0.53757357 1.        ]\n",
      " [0.70834247 0.28898534 1.        ]]\n"
     ]
    }
   ],
   "source": [
    "def gaussian_function(row, pole_zero, pole_one, sigma):\n",
    "\tresult1 = np.e**(-1/(2*(sigma**2)) * np.linalg.norm(row - pole_zero)**2)\n",
    "\tresult2 = np.e**(-1/(2*(sigma**2)) * np.linalg.norm(row - pole_one)**2)\n",
    "\treturn result1, result2\n",
    "\n",
    "def apply_radial_basis_function(df_op, pole_zero, pole_one, sigma):\n",
    "\ttuple_series = df_op.apply(gaussian_function, axis=1, args=(pole_zero, pole_one, sigma))\n",
    "\tdf_main_matrix = pd.DataFrame(tuple_series.tolist(), columns=['Column 1', 'Column 2'])\n",
    "\tdf_main_matrix[\"Column 3\"] = 1\n",
    "\tR = df_main_matrix.values\n",
    "\treturn R"
   ]
  },
  {
   "cell_type": "code",
   "execution_count": 60,
   "metadata": {},
   "outputs": [
    {
     "name": "stdout",
     "output_type": "stream",
     "text": [
      "[[ 1.16735865  0.16017947 -0.97217274  1.55694355  0.26214723 -1.61337488\n",
      "  -0.56108128]\n",
      " [ 1.26701616 -1.90402784 -1.14423071  3.78218784  0.44818147 -0.30788102\n",
      "  -2.1412459 ]\n",
      " [-1.10836867  0.80108824  1.2204467  -2.36163099 -0.20348833  1.29570875\n",
      "   1.3562443 ]]\n"
     ]
    }
   ],
   "source": [
    "def calculate_pseudo_inverse(R):\n",
    "\tR_pseudo_inv = np.dot(np.linalg.inv(np.dot(R.T, R)), R.T)\n",
    "\treturn R_pseudo_inv"
   ]
  },
  {
   "cell_type": "code",
   "execution_count": 61,
   "metadata": {},
   "outputs": [
    {
     "name": "stdout",
     "output_type": "stream",
     "text": [
      "[[2.18]\n",
      " [1.83]\n",
      " [1.31]\n",
      " [2.79]\n",
      " [2.49]\n",
      " [3.95]\n",
      " [2.11]]\n"
     ]
    }
   ],
   "source": [
    "def transform_column_ref_in_matrix(column_ref):\n",
    "\tA = column_ref.to_numpy().reshape(-1, 1)\n",
    "\treturn A"
   ]
  },
  {
   "cell_type": "code",
   "execution_count": 62,
   "metadata": {},
   "outputs": [
    {
     "name": "stdout",
     "output_type": "stream",
     "text": [
      "[[-0.99566916]\n",
      " [ 3.71289911]\n",
      " [ 1.53262159]]\n"
     ]
    }
   ],
   "source": [
    "def calculate_radial_basis_function_constants(R_pseudo_inv, A):\n",
    "\ta = np.dot(R_pseudo_inv, A)\n",
    "\treturn a"
   ]
  },
  {
   "cell_type": "code",
   "execution_count": 63,
   "metadata": {},
   "outputs": [],
   "source": [
    "# Define the truth_gaussian_function\n",
    "def truth_gaussian_function(row, pole_zero, pole_one, sigma, a):\n",
    "\tfirst_term = a[0] * np.e**(-1/(2*(sigma**2)) * np.linalg.norm(row - pole_zero)**2)\n",
    "\tsecond_term = a[1] * np.e**(-1/(2*(sigma**2)) * np.linalg.norm(row - pole_one)**2)\n",
    "\tthird_term = a[2]\n",
    "\tresult = first_term + second_term + third_term\n",
    "\treturn result"
   ]
  },
  {
   "cell_type": "code",
   "execution_count": 64,
   "metadata": {},
   "outputs": [
    {
     "data": {
      "text/plain": [
       "0    [2.1368599607927194]\n",
       "1    [1.5376743928428769]\n",
       "2    [2.5478119954813305]\n",
       "3    [2.8703035759284843]\n",
       "4     [2.389113613771748]\n",
       "5    [3.2779162023982873]\n",
       "6    [1.9003202587845505]\n",
       "dtype: object"
      ]
     },
     "execution_count": 64,
     "metadata": {},
     "output_type": "execute_result"
    }
   ],
   "source": [
    "# Test truth_gaussian_function\n",
    "\n",
    "result = df_op.apply(truth_gaussian_function, axis=1, args=(pole_zero, pole_one, sigma, a))\n",
    "result\n"
   ]
  }
 ],
 "metadata": {
  "kernelspec": {
   "display_name": "Python 3",
   "language": "python",
   "name": "python3"
  },
  "language_info": {
   "codemirror_mode": {
    "name": "ipython",
    "version": 3
   },
   "file_extension": ".py",
   "mimetype": "text/x-python",
   "name": "python",
   "nbconvert_exporter": "python",
   "pygments_lexer": "ipython3",
   "version": "3.8.10"
  }
 },
 "nbformat": 4,
 "nbformat_minor": 2
}
